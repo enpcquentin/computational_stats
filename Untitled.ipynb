{
 "cells": [
  {
   "cell_type": "code",
   "execution_count": 1,
   "metadata": {
    "collapsed": true
   },
   "outputs": [],
   "source": [
    "import numpy as np\n",
    "import matplotlib.pyplot as plt\n",
    "import pylab\n",
    "import scipy as sp\n",
    "from scipy.stats import norm"
   ]
  },
  {
   "cell_type": "code",
   "execution_count": 14,
   "metadata": {
    "collapsed": false
   },
   "outputs": [
    {
     "name": "stdout",
     "output_type": "stream",
     "text": [
      "2.71104186249\n",
      "0.99\n",
      "2.68757612057\n"
     ]
    },
    {
     "data": {
      "image/png": "[encoded data removed]",
      "text/plain": [
       "<matplotlib.figure.Figure at 0x7fc843a4b2b0>"
      ]
     },
     "metadata": {},
     "output_type": "display_data"
    },
    {
     "name": "stdout",
     "output_type": "stream",
     "text": [
      "2.68309389871\n"
     ]
    }
   ],
   "source": [
    "# Inputs of SACE algorithm\n",
    "q = 0.99\n",
    "d = 2\n",
    "mu = 10\n",
    "sigma = 2\n",
    "\n",
    "def X(mu, sigma):\n",
    "    return np.random.normal(mu, sigma)\n",
    "\n",
    "def f(x):\n",
    "    try:\n",
    "        return np.log(x)\n",
    "    except ValueError:\n",
    "        print(\"Too small mean value !\")\n",
    "\n",
    "print(f(X(mu,sigma)))\n",
    "\n",
    "def H(theta, x):\n",
    "    return q - (f(x)<=theta).astype(float)\n",
    "\n",
    "print(H(0,X(mu,sigma)))\n",
    "\n",
    "def MCquantile(f, X, N=100000):\n",
    "    values = []\n",
    "    for i in range(N):\n",
    "        x = X(mu,sigma)\n",
    "        values.append(f(x))\n",
    "    values = np.array(values)\n",
    "    values = np.sort(values)\n",
    "    return values[int(q * N)]\n",
    "\n",
    "print(MCquantile(f,X))\n",
    "\n",
    "def gaussian(x, mu, sigma):\n",
    "    return 1./np.sqrt(2*np.pi*sigma*sigma) * np.exp(-(x-mu)**2/(2*sigma**2))\n",
    "\n",
    "def plotdensity(f):\n",
    "    x = np.linspace(0, 10, 100)\n",
    "    pylab.plot(x, f(gaussian(x, mu, sigma)))\n",
    "    pylab.show()\n",
    "    \n",
    "plotdensity(f)\n",
    "\n",
    "# K = [0,5]\n",
    "P = 0.3\n",
    "\n",
    "def SA(Klim, x0, theta0):\n",
    "    x = x0\n",
    "    theta = theta0\n",
    "    rho = 0.1\n",
    "    i = 0\n",
    "    while theta >= Klim[0] and theta <= Klim[1] and i < 5000:\n",
    "        i += 1\n",
    "        rho = 1/(i+1)**0.8\n",
    "        x_next = 0 * x + 1 * X(mu,sigma)\n",
    "        theta = theta + rho * H(theta, x_next)\n",
    "    return theta\n",
    "\n",
    "print(SA([0,3], 1, 1))"
   ]
  },
  {
   "cell_type": "code",
   "execution_count": null,
   "metadata": {
    "collapsed": true
   },
   "outputs": [],
   "source": []
  },
  {
   "cell_type": "code",
   "execution_count": null,
   "metadata": {
    "collapsed": true
   },
   "outputs": [],
   "source": []
  }
 ],
 "metadata": {
  "kernelspec": {
   "display_name": "Python 3",
   "language": "python",
   "name": "python3"
  },
  "language_info": {
   "codemirror_mode": {
    "name": "ipython",
    "version": 3
   },
   "file_extension": ".py",
   "mimetype": "text/x-python",
   "name": "python",
   "nbconvert_exporter": "python",
   "pygments_lexer": "ipython3",
   "version": "3.5.4"
  }
 },
 "nbformat": 4,
 "nbformat_minor": 2
}
