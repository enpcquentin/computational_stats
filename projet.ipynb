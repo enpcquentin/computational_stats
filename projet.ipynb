{
 "cells": [
  {
   "cell_type": "markdown",
   "metadata": {},
   "source": [
    "## Example 3.2 : Stochastic Approximation Cross-Entropy (SACE) algorithm"
   ]
  },
  {
   "cell_type": "code",
   "execution_count": 2,
   "metadata": {},
   "outputs": [],
   "source": [
    "import numpy as np\n",
    "from scipy.stats import beta\n",
    "import matplotlib.pyplot as plt"
   ]
  },
  {
   "cell_type": "code",
   "execution_count": 35,
   "metadata": {},
   "outputs": [],
   "source": [
    "a = np.array([1,2,3,1,2])\n",
    "\n",
    "paths = np.array([[0,3],[0,2,4],[1,2,3],[1,4]])\n",
    "\n",
    "def nu_star(u):\n",
    "    \"\"\"Return the value of nu that minimizes the Kullback-Leibler divergence \n",
    "    of gν from the optimal importance distribution\"\"\"\n",
    "    return(-1 / np.log(u))\n",
    "\n",
    "def gibbs_sampler(Y,theta):\n",
    "    n = np.size(Y)\n",
    "    Ytilde = np.copy(Y)\n",
    "    for i in range(n):\n",
    "        Ytilde[i] = 0\n",
    "        Y[i] = np.random.uniform(np.max([0,(theta-phi(Ytilde))]),1)\n",
    "        Ytilde[i] = Y[i]\n",
    "    return(Y)\n",
    "\n",
    "def phi(U):\n",
    "    minimum = 10000\n",
    "    cost = 0\n",
    "    for C in paths:\n",
    "        cost = np.sum(a[C] * U[C])\n",
    "        if cost < minimum:\n",
    "            minimum = cost\n",
    "    return(minimum)\n",
    "\n",
    "def p(U):\n",
    "    res = 1\n",
    "    for u in U:\n",
    "        if u<0 or u>1:\n",
    "            res = 0\n",
    "    return(res)  \n",
    "    \n",
    "def sufficient_stat(Y):\n",
    "    return np.log(Y)    \n",
    "\n",
    "def beta_product(Z,nu,b=1):\n",
    "    n = np.size(Z)\n",
    "    res = 1\n",
    "    for i in range(n):\n",
    "        res *= beta.pdf(Z[i],nu[i],b)\n",
    "        if (Z[i]<0 or Z[i]>1):\n",
    "            res = 0\n",
    "    return(res)\n",
    "\n",
    "def SACE(quantile):\n",
    "    n = 5\n",
    "    sigma = np.random.rand(5)\n",
    "    nu = nu_star(sigma)\n",
    "    Y = np.random.rand(5)\n",
    "    theta = phi(Y)\n",
    "    list_theta = []\n",
    "    list_nu = []\n",
    "    T = 50000\n",
    "    for t in range(T):\n",
    "        gamma = 0.001 / (t+1)\n",
    "        Y = gibbs_sampler(Y,theta)\n",
    "        Z = np.random.beta(nu,1,n)\n",
    "        if phi(Z) <= theta:\n",
    "            theta += gamma * (quantile - p(Z)/beta_product(Z,nu,1))\n",
    "        else:\n",
    "            theta += gamma * quantile\n",
    "        sigma = (1-gamma) * sigma + gamma * sufficient_stat(Y)\n",
    "        nu = nu_star(sigma)\n",
    "        list_theta.append(theta)\n",
    "        list_nu.append(nu)\n",
    "        \n",
    "    return(list_theta,list_nu)"
   ]
  },
  {
   "cell_type": "code",
   "execution_count": 37,
   "metadata": {},
   "outputs": [
    {
     "data": {
      "image/png": "[encoded data removed]",
      "text/plain": [
       "<Figure size 432x288 with 1 Axes>"
      ]
     },
     "metadata": {
      "needs_background": "light"
     },
     "output_type": "display_data"
    },
    {
     "data": {
      "image/png": "[encoded data removed]",
      "text/plain": [
       "<Figure size 432x288 with 1 Axes>"
      ]
     },
     "metadata": {
      "needs_background": "light"
     },
     "output_type": "display_data"
    }
   ],
   "source": [
    "quantiles = [10e-3,10e-4,10e-5]\n",
    "ls_theta = [[] for i in range(3)]\n",
    "ls_nu = [[] for i in range(3)]\n",
    "k = 0\n",
    "for quantile in quantiles:\n",
    "    ls_theta[k],ls_nu[k] = SACE(quantile)\n",
    "    k += 1\n",
    "\n",
    "plt.figure(1)\n",
    "for k in range(3):\n",
    "    plt.plot(ls_theta[k],label='quantile='+str(quantiles[k]))\n",
    "plt.legend()\n",
    "plt.title('Paths of theta_n for different values of the quantile')\n",
    "plt.show()\n",
    "\n",
    "ls_nu = np.array(ls_nu)\n",
    "plt.figure(2)\n",
    "for k in range(5):\n",
    "    plt.plot(ls_nu[0,:,k],label='composant '+str(k))\n",
    "plt.legend()\n",
    "plt.title('Path of the 5 components of \\eta(sigma_n)')\n",
    "plt.show()"
   ]
  },
  {
   "cell_type": "code",
   "execution_count": 18,
   "metadata": {},
   "outputs": [
    {
     "data": {
      "text/plain": [
       "1.339112863500074"
      ]
     },
     "execution_count": 18,
     "metadata": {},
     "output_type": "execute_result"
    }
   ],
   "source": [
    "ls_theta[0][4000]"
   ]
  }
 ],
 "metadata": {
  "kernelspec": {
   "display_name": "Python 3",
   "language": "python",
   "name": "python3"
  },
  "language_info": {
   "codemirror_mode": {
    "name": "ipython",
    "version": 3
   },
   "file_extension": ".py",
   "mimetype": "text/x-python",
   "name": "python",
   "nbconvert_exporter": "python",
   "pygments_lexer": "ipython3",
   "version": "3.6.5"
  }
 },
 "nbformat": 4,
 "nbformat_minor": 2
}
