{
 "cells": [
  {
   "cell_type": "code",
   "execution_count": 2,
   "metadata": {},
   "outputs": [],
   "source": [
    "import numpy as np\n",
    "from scipy.stats import beta, norm\n",
    "import matplotlib.pyplot as plt\n",
    "import pylab\n",
    "import scipy as sp"
   ]
  },
  {
   "cell_type": "markdown",
   "metadata": {},
   "source": [
    "## Example 3.1 - Quantile estimation"
   ]
  },
  {
   "cell_type": "code",
   "execution_count": null,
   "metadata": {},
   "outputs": [],
   "source": [
    "# Inputs of SACE algorithm\n",
    "q = 0.99\n",
    "d = 2\n",
    "mu = 10\n",
    "sigma = 2\n",
    "\n",
    "def X(mu, sigma):\n",
    "    return np.random.normal(mu, sigma)\n",
    "\n",
    "def f(x):\n",
    "    try:\n",
    "        return np.log(x)\n",
    "    except ValueError:\n",
    "        print(\"Too small mean value !\")\n",
    "\n",
    "def H(theta, x):\n",
    "    return q - (f(x)<=theta).astype(float)\n",
    "\n",
    "def MCquantile(f, X, N=100000):\n",
    "    values = []\n",
    "    for i in range(N):\n",
    "        x = X(mu,sigma)\n",
    "        values.append(f(x))\n",
    "    values = np.array(values)\n",
    "    values = np.sort(values)\n",
    "    return values[int(q * N)]\n",
    "\n",
    "def gaussian(x, mu, sigma):\n",
    "    return 1./np.sqrt(2*np.pi*sigma*sigma) * np.exp(-(x-mu)**2/(2*sigma**2))\n",
    "\n",
    "def plotdensity(f):\n",
    "    x = np.linspace(0, 10, 100)\n",
    "    pylab.figure(figsize=(8,6))\n",
    "    pylab.plot(x, f(gaussian(x, mu, sigma)))\n",
    "    pylab.title('Density function')\n",
    "    pylab.show()\n",
    "    \n",
    "plotdensity(f)\n",
    "\n",
    "# K = [0,5]\n",
    "P = 0.3\n",
    "\n",
    "def SA(Klim, x0, theta0):\n",
    "    x = x0\n",
    "    theta = theta0\n",
    "    rho = 0.1\n",
    "    i = 0\n",
    "    while theta >= Klim[0] and theta <= Klim[1] and i < 5000:\n",
    "        i += 1\n",
    "        rho = 1/(i+1)**0.8\n",
    "        x_next = 0.01 * x + 1 * X(mu,sigma)\n",
    "        theta = theta + rho * H(theta, x_next)\n",
    "    return theta\n",
    "\n",
    "print(\"Monte Carlo quantile: \", MCquantile(f,X))\n",
    "print(\"SA convergence to the quantile: \", SA([0,3], 1, 1))"
   ]
  },
  {
   "cell_type": "markdown",
   "metadata": {},
   "source": [
    "## Example 3.2 - Stochastic Approximation Cross-Entropy (SACE) algorithm"
   ]
  },
  {
   "cell_type": "code",
   "execution_count": 16,
   "metadata": {},
   "outputs": [],
   "source": [
    "# Cost of each edge of the graph.\n",
    "a = np.array([1,2,3,1,2])\n",
    "\n",
    "# Each sublist of the object 'paths' represents one way to go from the origin to the terminal state.\n",
    "# The integers denote the edges of the graph taken (following the notation of the paper).\n",
    "paths = np.array([[0,3],[0,2,4],[1,2,3],[1,4]])\n",
    "\n",
    "def nu_star(sigma):\n",
    "    \"\"\"Return the value of nu that minimizes the Kullback-Leibler divergence \n",
    "    of gν from the optimal importance distribution.\"\"\"\n",
    "    return(-1 / sigma)\n",
    "\n",
    "def gibbs_sampler(Y,theta):\n",
    "    \"\"\"Gibbs sampling for the SACE.\"\"\"\n",
    "    n = np.size(Y)\n",
    "    Ytilde = np.copy(Y)\n",
    "    for i in range(n):\n",
    "        Ytilde[i] = 0\n",
    "        Y[i] = np.random.uniform(np.max([0,(theta-phi(Ytilde))]),1)\n",
    "        Ytilde[i] = Y[i]\n",
    "    return(Y)\n",
    "\n",
    "def phi(U):\n",
    "    \"\"\"Return the shortest path in the graph for weights on edges defined by a and U.\"\"\"\n",
    "    minimum = 10000\n",
    "    cost = 0\n",
    "    for C in paths:\n",
    "        cost = np.sum(a[C] * U[C])\n",
    "        if cost < minimum:\n",
    "            minimum = cost\n",
    "    return(minimum)\n",
    "\n",
    "def p(U):\n",
    "    \"\"\"Distribution of the joint variable U=(U_1, ..., U_5).\"\"\"\n",
    "    res = 1\n",
    "    for u in U:\n",
    "        if u<0 or u>1:\n",
    "            res = 0\n",
    "    return(res)  \n",
    "    \n",
    "def sufficient_stat(Y):\n",
    "    \"\"\"Sufficient statistic associated with the exponential distribution of the importance sampling distribution.\"\"\"\n",
    "    return np.log(Y)    \n",
    "\n",
    "def beta_product(Z,nu,b=1):\n",
    "    \"\"\"Importance sampling distribution gν.\"\"\"\n",
    "    n = np.size(Z)\n",
    "    res = 1\n",
    "    for i in range(n):\n",
    "        res *= beta.pdf(Z[i],nu[i],b)\n",
    "        if (Z[i]<0 or Z[i]>1):\n",
    "            res = 0\n",
    "    return(res)\n",
    "\n",
    "def SACE(quantile):\n",
    "    n = 5\n",
    "    Y = np.random.rand(n)\n",
    "    sigma = sufficient_stat(Y)\n",
    "    nu = nu_star(sigma)\n",
    "    theta = phi(Y)\n",
    "    list_theta = []\n",
    "    list_nu = []\n",
    "    T = 500000\n",
    "    for t in range(T):\n",
    "        gamma = 0.01 / (t+1)**0.6\n",
    "        Y = gibbs_sampler(Y,theta)\n",
    "        Z = np.random.beta(nu,1,n)\n",
    "        if phi(Z) <= theta:\n",
    "            theta += gamma * (quantile - p(Z)/beta_product(Z,nu,1))\n",
    "        else:\n",
    "            theta += gamma * quantile\n",
    "        sigma = (1-gamma) * sigma + gamma * sufficient_stat(Y)\n",
    "        nu = nu_star(sigma)\n",
    "        list_theta.append(theta)\n",
    "        list_nu.append(nu)\n",
    "        \n",
    "    return(list_theta,list_nu)"
   ]
  },
  {
   "cell_type": "code",
   "execution_count": 17,
   "metadata": {},
   "outputs": [
    {
     "data": {
      "image/png": "[encoded data removed]",
      "text/plain": [
       "<Figure size 432x288 with 1 Axes>"
      ]
     },
     "metadata": {
      "needs_background": "light"
     },
     "output_type": "display_data"
    },
    {
     "data": {
      "image/png": "[encoded data removed]",
      "text/plain": [
       "<Figure size 432x288 with 1 Axes>"
      ]
     },
     "metadata": {
      "needs_background": "light"
     },
     "output_type": "display_data"
    }
   ],
   "source": [
    "quantiles = [10e-3,10e-4,10e-5]\n",
    "ls_theta = [[] for i in range(3)]\n",
    "ls_nu = [[] for i in range(3)]\n",
    "k = 0\n",
    "for quantile in quantiles:\n",
    "    ls_theta[k],ls_nu[k] = SACE(quantile)\n",
    "    k += 1\n",
    "\n",
    "plt.figure(1)\n",
    "for k in range(3):\n",
    "    plt.plot(ls_theta[k][:1000],label='q='+str(quantiles[k]))\n",
    "plt.legend()\n",
    "plt.title('Paths of theta_n for different values of the quantile')\n",
    "plt.show()\n",
    "\n",
    "ls_nu = np.array(ls_nu)\n",
    "plt.figure(2)\n",
    "for k in range(5):\n",
    "    plt.plot(ls_nu[0,:,k],label='composant '+str(k))\n",
    "plt.legend()\n",
    "plt.title('Path of the 5 components of \\nu(sigma_n) for q='+str(quantiles[0]))\n",
    "plt.show()"
   ]
  },
  {
   "cell_type": "markdown",
   "metadata": {},
   "source": [
    "## Example 3.3 - Median in multi-dimensional spaces\n"
   ]
  },
  {
   "cell_type": "code",
   "execution_count": null,
   "metadata": {},
   "outputs": [],
   "source": [
    "# TODO"
   ]
  },
  {
   "cell_type": "code",
   "execution_count": null,
   "metadata": {},
   "outputs": [],
   "source": []
  }
 ],
 "metadata": {
  "kernelspec": {
   "display_name": "Python 3",
   "language": "python",
   "name": "python3"
  },
  "language_info": {
   "codemirror_mode": {
    "name": "ipython",
    "version": 3
   },
   "file_extension": ".py",
   "mimetype": "text/x-python",
   "name": "python",
   "nbconvert_exporter": "python",
   "pygments_lexer": "ipython3",
   "version": "3.6.5"
  }
 },
 "nbformat": 4,
 "nbformat_minor": 2
}
